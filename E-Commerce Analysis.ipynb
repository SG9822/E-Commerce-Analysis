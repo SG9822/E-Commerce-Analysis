{
 "cells": [
  {
   "cell_type": "code",
   "execution_count": 1,
   "id": "9bbace09-ac67-4d8d-8b9b-a235997333e1",
   "metadata": {},
   "outputs": [],
   "source": [
    "import pandas as pd\n",
    "import matplotlib.pyplot as plt\n",
    "import numpy as np\n",
    "import seaborn as sns\n",
    "import warnings\n",
    "warnings.filterwarnings(\"ignore\")"
   ]
  },
  {
   "cell_type": "markdown",
   "id": "9da7acc5-6586-4740-a3f1-776de12888d0",
   "metadata": {},
   "source": [
    "### Data Importing"
   ]
  },
  {
   "cell_type": "code",
   "execution_count": 2,
   "id": "4c0e9db3-17f7-4982-aa33-3959cc15d211",
   "metadata": {},
   "outputs": [],
   "source": [
    "df = pd.read_json(\"fashion_products_dataset.json\")"
   ]
  },
  {
   "cell_type": "code",
   "execution_count": 3,
   "id": "902531ce-2d22-45fe-afac-e8c55fd5125c",
   "metadata": {},
   "outputs": [
    {
     "data": {
      "text/html": [
       "<div>\n",
       "<style scoped>\n",
       "    .dataframe tbody tr th:only-of-type {\n",
       "        vertical-align: middle;\n",
       "    }\n",
       "\n",
       "    .dataframe tbody tr th {\n",
       "        vertical-align: top;\n",
       "    }\n",
       "\n",
       "    .dataframe thead th {\n",
       "        text-align: right;\n",
       "    }\n",
       "</style>\n",
       "<table border=\"1\" class=\"dataframe\">\n",
       "  <thead>\n",
       "    <tr style=\"text-align: right;\">\n",
       "      <th></th>\n",
       "      <th>_id</th>\n",
       "      <th>actual_price</th>\n",
       "      <th>average_rating</th>\n",
       "      <th>brand</th>\n",
       "      <th>category</th>\n",
       "      <th>crawled_at</th>\n",
       "      <th>description</th>\n",
       "      <th>discount</th>\n",
       "      <th>images</th>\n",
       "      <th>out_of_stock</th>\n",
       "      <th>pid</th>\n",
       "      <th>product_details</th>\n",
       "      <th>seller</th>\n",
       "      <th>selling_price</th>\n",
       "      <th>sub_category</th>\n",
       "      <th>title</th>\n",
       "      <th>url</th>\n",
       "    </tr>\n",
       "  </thead>\n",
       "  <tbody>\n",
       "    <tr>\n",
       "      <th>0</th>\n",
       "      <td>fa8e22d6-c0b6-5229-bb9e-ad52eda39a0a</td>\n",
       "      <td>2,999</td>\n",
       "      <td>3.9</td>\n",
       "      <td>York</td>\n",
       "      <td>Clothing and Accessories</td>\n",
       "      <td>2021-02-10 20:11:51</td>\n",
       "      <td>Yorker trackpants made from 100% rich combed c...</td>\n",
       "      <td>69% off</td>\n",
       "      <td>[https://rukminim1.flixcart.com/image/128/128/...</td>\n",
       "      <td>False</td>\n",
       "      <td>TKPFCZ9EA7H5FYZH</td>\n",
       "      <td>[{'Style Code': '1005COMBO2'}, {'Closure': 'El...</td>\n",
       "      <td>Shyam Enterprises</td>\n",
       "      <td>921</td>\n",
       "      <td>Bottomwear</td>\n",
       "      <td>Solid Men Multicolor Track Pants</td>\n",
       "      <td>https://www.flipkart.com/yorker-solid-men-mult...</td>\n",
       "    </tr>\n",
       "    <tr>\n",
       "      <th>1</th>\n",
       "      <td>893e6980-f2a0-531f-b056-34dd63fe912c</td>\n",
       "      <td>1,499</td>\n",
       "      <td>3.9</td>\n",
       "      <td>York</td>\n",
       "      <td>Clothing and Accessories</td>\n",
       "      <td>2021-02-10 20:11:52</td>\n",
       "      <td>Yorker trackpants made from 100% rich combed c...</td>\n",
       "      <td>66% off</td>\n",
       "      <td>[https://rukminim1.flixcart.com/image/128/128/...</td>\n",
       "      <td>False</td>\n",
       "      <td>TKPFCZ9EJZV2UVRZ</td>\n",
       "      <td>[{'Style Code': '1005BLUE'}, {'Closure': 'Draw...</td>\n",
       "      <td>Shyam Enterprises</td>\n",
       "      <td>499</td>\n",
       "      <td>Bottomwear</td>\n",
       "      <td>Solid Men Blue Track Pants</td>\n",
       "      <td>https://www.flipkart.com/yorker-solid-men-blue...</td>\n",
       "    </tr>\n",
       "    <tr>\n",
       "      <th>2</th>\n",
       "      <td>eb4c8eab-8206-59d0-bcd1-a724d96bf74f</td>\n",
       "      <td>2,999</td>\n",
       "      <td>3.9</td>\n",
       "      <td>York</td>\n",
       "      <td>Clothing and Accessories</td>\n",
       "      <td>2021-02-10 20:11:52</td>\n",
       "      <td>Yorker trackpants made from 100% rich combed c...</td>\n",
       "      <td>68% off</td>\n",
       "      <td>[https://rukminim1.flixcart.com/image/128/128/...</td>\n",
       "      <td>False</td>\n",
       "      <td>TKPFCZ9EHFCY5Z4Y</td>\n",
       "      <td>[{'Style Code': '1005COMBO4'}, {'Closure': 'El...</td>\n",
       "      <td>Shyam Enterprises</td>\n",
       "      <td>931</td>\n",
       "      <td>Bottomwear</td>\n",
       "      <td>Solid Men Multicolor Track Pants</td>\n",
       "      <td>https://www.flipkart.com/yorker-solid-men-mult...</td>\n",
       "    </tr>\n",
       "    <tr>\n",
       "      <th>3</th>\n",
       "      <td>3f3f97bb-5faf-57df-a9ff-1af24e2b1045</td>\n",
       "      <td>2,999</td>\n",
       "      <td>3.9</td>\n",
       "      <td>York</td>\n",
       "      <td>Clothing and Accessories</td>\n",
       "      <td>2021-02-10 20:11:53</td>\n",
       "      <td>Yorker trackpants made from 100% rich combed c...</td>\n",
       "      <td>69% off</td>\n",
       "      <td>[https://rukminim1.flixcart.com/image/128/128/...</td>\n",
       "      <td>False</td>\n",
       "      <td>TKPFCZ9ESZZ7YWEF</td>\n",
       "      <td>[{'Style Code': '1005COMBO3'}, {'Closure': 'El...</td>\n",
       "      <td>Shyam Enterprises</td>\n",
       "      <td>911</td>\n",
       "      <td>Bottomwear</td>\n",
       "      <td>Solid Men Multicolor Track Pants</td>\n",
       "      <td>https://www.flipkart.com/yorker-solid-men-mult...</td>\n",
       "    </tr>\n",
       "    <tr>\n",
       "      <th>4</th>\n",
       "      <td>750caa3d-6264-53ca-8ce1-94118a1d8951</td>\n",
       "      <td>2,999</td>\n",
       "      <td>3.9</td>\n",
       "      <td>York</td>\n",
       "      <td>Clothing and Accessories</td>\n",
       "      <td>2021-02-10 20:11:53</td>\n",
       "      <td>Yorker trackpants made from 100% rich combed c...</td>\n",
       "      <td>68% off</td>\n",
       "      <td>[https://rukminim1.flixcart.com/image/128/128/...</td>\n",
       "      <td>False</td>\n",
       "      <td>TKPFCZ9EVXKBSUD7</td>\n",
       "      <td>[{'Style Code': '1005COMBO1'}, {'Closure': 'Dr...</td>\n",
       "      <td>Shyam Enterprises</td>\n",
       "      <td>943</td>\n",
       "      <td>Bottomwear</td>\n",
       "      <td>Solid Men Brown, Grey Track Pants</td>\n",
       "      <td>https://www.flipkart.com/yorker-solid-men-brow...</td>\n",
       "    </tr>\n",
       "  </tbody>\n",
       "</table>\n",
       "</div>"
      ],
      "text/plain": [
       "                                    _id actual_price average_rating brand  \\\n",
       "0  fa8e22d6-c0b6-5229-bb9e-ad52eda39a0a        2,999            3.9  York   \n",
       "1  893e6980-f2a0-531f-b056-34dd63fe912c        1,499            3.9  York   \n",
       "2  eb4c8eab-8206-59d0-bcd1-a724d96bf74f        2,999            3.9  York   \n",
       "3  3f3f97bb-5faf-57df-a9ff-1af24e2b1045        2,999            3.9  York   \n",
       "4  750caa3d-6264-53ca-8ce1-94118a1d8951        2,999            3.9  York   \n",
       "\n",
       "                   category          crawled_at  \\\n",
       "0  Clothing and Accessories 2021-02-10 20:11:51   \n",
       "1  Clothing and Accessories 2021-02-10 20:11:52   \n",
       "2  Clothing and Accessories 2021-02-10 20:11:52   \n",
       "3  Clothing and Accessories 2021-02-10 20:11:53   \n",
       "4  Clothing and Accessories 2021-02-10 20:11:53   \n",
       "\n",
       "                                         description discount  \\\n",
       "0  Yorker trackpants made from 100% rich combed c...  69% off   \n",
       "1  Yorker trackpants made from 100% rich combed c...  66% off   \n",
       "2  Yorker trackpants made from 100% rich combed c...  68% off   \n",
       "3  Yorker trackpants made from 100% rich combed c...  69% off   \n",
       "4  Yorker trackpants made from 100% rich combed c...  68% off   \n",
       "\n",
       "                                              images  out_of_stock  \\\n",
       "0  [https://rukminim1.flixcart.com/image/128/128/...         False   \n",
       "1  [https://rukminim1.flixcart.com/image/128/128/...         False   \n",
       "2  [https://rukminim1.flixcart.com/image/128/128/...         False   \n",
       "3  [https://rukminim1.flixcart.com/image/128/128/...         False   \n",
       "4  [https://rukminim1.flixcart.com/image/128/128/...         False   \n",
       "\n",
       "                pid                                    product_details  \\\n",
       "0  TKPFCZ9EA7H5FYZH  [{'Style Code': '1005COMBO2'}, {'Closure': 'El...   \n",
       "1  TKPFCZ9EJZV2UVRZ  [{'Style Code': '1005BLUE'}, {'Closure': 'Draw...   \n",
       "2  TKPFCZ9EHFCY5Z4Y  [{'Style Code': '1005COMBO4'}, {'Closure': 'El...   \n",
       "3  TKPFCZ9ESZZ7YWEF  [{'Style Code': '1005COMBO3'}, {'Closure': 'El...   \n",
       "4  TKPFCZ9EVXKBSUD7  [{'Style Code': '1005COMBO1'}, {'Closure': 'Dr...   \n",
       "\n",
       "              seller selling_price sub_category  \\\n",
       "0  Shyam Enterprises           921   Bottomwear   \n",
       "1  Shyam Enterprises           499   Bottomwear   \n",
       "2  Shyam Enterprises           931   Bottomwear   \n",
       "3  Shyam Enterprises           911   Bottomwear   \n",
       "4  Shyam Enterprises           943   Bottomwear   \n",
       "\n",
       "                               title  \\\n",
       "0   Solid Men Multicolor Track Pants   \n",
       "1         Solid Men Blue Track Pants   \n",
       "2   Solid Men Multicolor Track Pants   \n",
       "3   Solid Men Multicolor Track Pants   \n",
       "4  Solid Men Brown, Grey Track Pants   \n",
       "\n",
       "                                                 url  \n",
       "0  https://www.flipkart.com/yorker-solid-men-mult...  \n",
       "1  https://www.flipkart.com/yorker-solid-men-blue...  \n",
       "2  https://www.flipkart.com/yorker-solid-men-mult...  \n",
       "3  https://www.flipkart.com/yorker-solid-men-mult...  \n",
       "4  https://www.flipkart.com/yorker-solid-men-brow...  "
      ]
     },
     "execution_count": 3,
     "metadata": {},
     "output_type": "execute_result"
    }
   ],
   "source": [
    "df.head()"
   ]
  },
  {
   "cell_type": "code",
   "execution_count": 4,
   "id": "114fb9b2-f1d5-46e9-a1a2-51e3f53d6c94",
   "metadata": {},
   "outputs": [
    {
     "data": {
      "text/plain": [
       "4"
      ]
     },
     "execution_count": 4,
     "metadata": {},
     "output_type": "execute_result"
    }
   ],
   "source": [
    "df.category.nunique()"
   ]
  },
  {
   "cell_type": "code",
   "execution_count": 14,
   "id": "a2e2f669-33b5-4044-ae70-71718549178a",
   "metadata": {},
   "outputs": [
    {
     "data": {
      "text/plain": [
       "array([10, 11])"
      ]
     },
     "execution_count": 14,
     "metadata": {},
     "output_type": "execute_result"
    }
   ],
   "source": [
    "yr = df['crawled_at'].dt.day.to_frame()\n",
    "yr['crawled_at'].unique()"
   ]
  },
  {
   "cell_type": "code",
   "execution_count": 11,
   "id": "045f3b7d-94e0-4132-a926-36b3367daa17",
   "metadata": {},
   "outputs": [
    {
     "data": {
      "text/plain": [
       "(30000, 17)"
      ]
     },
     "execution_count": 11,
     "metadata": {},
     "output_type": "execute_result"
    }
   ],
   "source": [
    "df.shape"
   ]
  },
  {
   "cell_type": "markdown",
   "id": "ae919ef0-3241-42f3-a96d-b8de4e416ce1",
   "metadata": {},
   "source": [
    "### Checking the Data types of the data"
   ]
  },
  {
   "cell_type": "code",
   "execution_count": 43,
   "id": "1573427a-d815-4404-8fdc-57b94fd0ebd8",
   "metadata": {},
   "outputs": [
    {
     "data": {
      "text/plain": [
       "_id                        object\n",
       "actual_price               object\n",
       "average_rating             object\n",
       "brand                      object\n",
       "category                   object\n",
       "crawled_at         datetime64[ns]\n",
       "description                object\n",
       "discount                   object\n",
       "images                     object\n",
       "out_of_stock                 bool\n",
       "pid                        object\n",
       "product_details            object\n",
       "seller                     object\n",
       "selling_price              object\n",
       "sub_category               object\n",
       "title                      object\n",
       "url                        object\n",
       "dtype: object"
      ]
     },
     "execution_count": 43,
     "metadata": {},
     "output_type": "execute_result"
    }
   ],
   "source": [
    "df.dtypes"
   ]
  },
  {
   "cell_type": "code",
   "execution_count": null,
   "id": "892bc12e-0793-4746-a2db-6195fdafccda",
   "metadata": {},
   "outputs": [],
   "source": []
  },
  {
   "cell_type": "code",
   "execution_count": null,
   "id": "645ea198-12f8-40c8-b8fc-1c0537599a94",
   "metadata": {},
   "outputs": [],
   "source": [
    "# df['actual_price'] = df['actual_price'].str.replace(\",\", \"\").replace('', np.nan)"
   ]
  },
  {
   "cell_type": "markdown",
   "id": "4198388c-c3ba-4f13-84d6-329c754bce33",
   "metadata": {},
   "source": [
    "### We are changing the data types and replacing '' values with null "
   ]
  },
  {
   "cell_type": "code",
   "execution_count": 44,
   "id": "78da0c02-83fd-4a49-bc91-cb66aa9e3caf",
   "metadata": {},
   "outputs": [],
   "source": [
    "df['average_rating'] = df['average_rating'].apply(lambda x: float(x) if x != \"\" else np.nan)"
   ]
  },
  {
   "cell_type": "code",
   "execution_count": 45,
   "id": "190880db-3eef-4bc9-ae72-2a68bbbe9cce",
   "metadata": {},
   "outputs": [
    {
     "data": {
      "text/plain": [
       "dtype('float64')"
      ]
     },
     "execution_count": 45,
     "metadata": {},
     "output_type": "execute_result"
    }
   ],
   "source": [
    "df['average_rating'].dtype"
   ]
  },
  {
   "cell_type": "code",
   "execution_count": 46,
   "id": "88c5afe0-7336-4dd0-8e21-0d6a8be35e37",
   "metadata": {},
   "outputs": [],
   "source": [
    "df['actual_price'] = df['actual_price'].apply(lambda x: int(x.replace(',', '')) if x != '' else np.nan)"
   ]
  },
  {
   "cell_type": "code",
   "execution_count": 47,
   "id": "f728c6dc-7389-46f1-a5fc-c6cead1b6846",
   "metadata": {},
   "outputs": [
    {
     "data": {
      "text/plain": [
       "dtype('float64')"
      ]
     },
     "execution_count": 47,
     "metadata": {},
     "output_type": "execute_result"
    }
   ],
   "source": [
    "df['actual_price'].dtype"
   ]
  },
  {
   "cell_type": "code",
   "execution_count": 48,
   "id": "0f3823dd-c091-47d8-a6eb-45057f4ab0ea",
   "metadata": {},
   "outputs": [],
   "source": [
    "df['selling_price'] = df['selling_price'].apply(lambda x: int(x.replace(',', '')) if x != '' else np.nan)"
   ]
  },
  {
   "cell_type": "code",
   "execution_count": 49,
   "id": "e3e607db-5273-48a4-870f-3496bccef25c",
   "metadata": {},
   "outputs": [
    {
     "data": {
      "text/plain": [
       "dtype('float64')"
      ]
     },
     "execution_count": 49,
     "metadata": {},
     "output_type": "execute_result"
    }
   ],
   "source": [
    "df['actual_price'].dtype"
   ]
  },
  {
   "cell_type": "markdown",
   "id": "1d236b67-5447-4ca7-afc7-2e4a97ca8514",
   "metadata": {},
   "source": [
    "### To change the discount values to int we are taking the integer out off the string"
   ]
  },
  {
   "cell_type": "code",
   "execution_count": 50,
   "id": "1991bdfa-7a04-4df4-b4c3-a135ed601787",
   "metadata": {},
   "outputs": [],
   "source": [
    "def discount(x):\n",
    "    if x == '' or x == \" \":\n",
    "        return np.nan\n",
    "    else:\n",
    "        if '%' not in x[:2]:\n",
    "            return int(x[:2])\n",
    "        else:\n",
    "            return int(x[0])"
   ]
  },
  {
   "cell_type": "code",
   "execution_count": 51,
   "id": "aa4b1ab4-cfe0-42fb-bbdd-870c3262867e",
   "metadata": {},
   "outputs": [],
   "source": [
    "df['discount'] = df['discount'].apply(lambda x: discount(x))"
   ]
  },
  {
   "cell_type": "code",
   "execution_count": 52,
   "id": "1ca54304-a749-427b-ac42-e0cdc1363eb4",
   "metadata": {},
   "outputs": [
    {
     "data": {
      "text/plain": [
       "dtype('float64')"
      ]
     },
     "execution_count": 52,
     "metadata": {},
     "output_type": "execute_result"
    }
   ],
   "source": [
    "df['discount'].dtype"
   ]
  },
  {
   "cell_type": "markdown",
   "id": "a07872d5-b0fa-4169-8f2f-f430853a7194",
   "metadata": {},
   "source": [
    "### We finally changed the data type"
   ]
  },
  {
   "cell_type": "code",
   "execution_count": 53,
   "id": "1b2242bb-6750-4201-822b-231b8bbc773e",
   "metadata": {},
   "outputs": [
    {
     "data": {
      "text/plain": [
       "_id                        object\n",
       "actual_price              float64\n",
       "average_rating            float64\n",
       "brand                      object\n",
       "category                   object\n",
       "crawled_at         datetime64[ns]\n",
       "description                object\n",
       "discount                  float64\n",
       "images                     object\n",
       "out_of_stock                 bool\n",
       "pid                        object\n",
       "product_details            object\n",
       "seller                     object\n",
       "selling_price             float64\n",
       "sub_category               object\n",
       "title                      object\n",
       "url                        object\n",
       "dtype: object"
      ]
     },
     "execution_count": 53,
     "metadata": {},
     "output_type": "execute_result"
    }
   ],
   "source": [
    "df.dtypes"
   ]
  },
  {
   "cell_type": "markdown",
   "id": "cf102908-f6dc-4717-8760-418eca7431d6",
   "metadata": {},
   "source": [
    "### We are again checking the columns that have '' values"
   ]
  },
  {
   "cell_type": "code",
   "execution_count": 56,
   "id": "6100cf6e-89ab-44a7-8eeb-8f97803fdaab",
   "metadata": {},
   "outputs": [
    {
     "name": "stdout",
     "output_type": "stream",
     "text": [
      "brand\n",
      "description\n",
      "seller\n"
     ]
    }
   ],
   "source": [
    "for i in df.columns:\n",
    "    for j in df[i]:\n",
    "        if j == '' or j == ' ':\n",
    "            print(i)\n",
    "            break"
   ]
  },
  {
   "cell_type": "markdown",
   "id": "15fcad1a-d869-440f-930a-d8a261bf39a3",
   "metadata": {},
   "source": [
    "### Replacing the unwaanted values with null"
   ]
  },
  {
   "cell_type": "code",
   "execution_count": 58,
   "id": "a69bbc33-3702-48fd-9055-5ca959c171dc",
   "metadata": {},
   "outputs": [],
   "source": [
    "df['brand'] = df['brand'].replace('', np.nan).replace(' ', np.nan)\n",
    "df['seller'] = df['seller'].replace('', np.nan).replace(' ', np.nan)"
   ]
  },
  {
   "cell_type": "markdown",
   "id": "d9e4f6ea-b02b-4cad-bc4b-e2b8c9ef0443",
   "metadata": {},
   "source": [
    "### Now we checking for the null values"
   ]
  },
  {
   "cell_type": "code",
   "execution_count": 59,
   "id": "8e008f5f-1ae0-487c-95ea-caed5d56befe",
   "metadata": {
    "scrolled": true
   },
   "outputs": [
    {
     "data": {
      "text/plain": [
       "_id                   0\n",
       "actual_price        863\n",
       "average_rating     2446\n",
       "brand              2068\n",
       "category              0\n",
       "crawled_at            0\n",
       "description           0\n",
       "discount            941\n",
       "images                0\n",
       "out_of_stock          0\n",
       "pid                   0\n",
       "product_details       0\n",
       "seller             1741\n",
       "selling_price         2\n",
       "sub_category          0\n",
       "title                 0\n",
       "url                   0\n",
       "dtype: int64"
      ]
     },
     "execution_count": 59,
     "metadata": {},
     "output_type": "execute_result"
    }
   ],
   "source": [
    "df.isnull().sum()"
   ]
  },
  {
   "cell_type": "code",
   "execution_count": 60,
   "id": "106c499c-647b-4c05-a3ba-b69da1453fb0",
   "metadata": {
    "scrolled": true
   },
   "outputs": [
    {
     "data": {
      "text/plain": [
       "_id                0.000000\n",
       "actual_price       2.876667\n",
       "average_rating     8.153333\n",
       "brand              6.893333\n",
       "category           0.000000\n",
       "crawled_at         0.000000\n",
       "description        0.000000\n",
       "discount           3.136667\n",
       "images             0.000000\n",
       "out_of_stock       0.000000\n",
       "pid                0.000000\n",
       "product_details    0.000000\n",
       "seller             5.803333\n",
       "selling_price      0.006667\n",
       "sub_category       0.000000\n",
       "title              0.000000\n",
       "url                0.000000\n",
       "dtype: float64"
      ]
     },
     "execution_count": 60,
     "metadata": {},
     "output_type": "execute_result"
    }
   ],
   "source": [
    "df.isnull().sum() / len(df) * 100"
   ]
  },
  {
   "cell_type": "markdown",
   "id": "9e52b3f8-d747-4b4c-8a6f-819c3708ad1c",
   "metadata": {},
   "source": []
  },
  {
   "cell_type": "code",
   "execution_count": 64,
   "id": "58ec8717-943e-478c-bf8b-a90e1fb7c065",
   "metadata": {},
   "outputs": [],
   "source": [
    "df['selling_price'].fillna(df['selling_price'].mean(), inplace=True)"
   ]
  },
  {
   "cell_type": "code",
   "execution_count": 70,
   "id": "eadb7d94-cf5b-44bd-98f5-51407f9bc14f",
   "metadata": {},
   "outputs": [],
   "source": [
    "df['brand'].fillna(method='bfill', inplace=True)"
   ]
  },
  {
   "cell_type": "code",
   "execution_count": 73,
   "id": "ed09520c-3fc9-409f-b86d-9ebb828cf365",
   "metadata": {},
   "outputs": [],
   "source": [
    "df['seller'].fillna(method='bfill', inplace=True)"
   ]
  },
  {
   "cell_type": "code",
   "execution_count": 61,
   "id": "89630696-e839-4de3-ab3c-0ef2c1ed014b",
   "metadata": {
    "scrolled": true
   },
   "outputs": [
    {
     "data": {
      "text/plain": [
       "<Axes: xlabel='actual_price', ylabel='Density'>"
      ]
     },
     "execution_count": 61,
     "metadata": {},
     "output_type": "execute_result"
    },
    {
     "data": {
      "image/png": "[encoded data removed]",
      "text/plain": [
       "<Figure size 640x480 with 1 Axes>"
      ]
     },
     "metadata": {},
     "output_type": "display_data"
    }
   ],
   "source": [
    "sns.distplot(df['actual_price'])"
   ]
  },
  {
   "cell_type": "code",
   "execution_count": 62,
   "id": "b09ff0b8-6805-450d-badc-919f488e61f4",
   "metadata": {},
   "outputs": [
    {
     "data": {
      "text/plain": [
       "2.8871488358608195"
      ]
     },
     "execution_count": 62,
     "metadata": {},
     "output_type": "execute_result"
    }
   ],
   "source": [
    "df['actual_price'].skew()"
   ]
  },
  {
   "cell_type": "code",
   "execution_count": 71,
   "id": "5c58fcc2-e7c6-4c20-bf17-9c622f407711",
   "metadata": {},
   "outputs": [],
   "source": [
    "gross_median = df.groupby('brand')['actual_price'].median()"
   ]
  },
  {
   "cell_type": "code",
   "execution_count": 72,
   "id": "4b540de4-05ab-4b70-a604-3154cb09a624",
   "metadata": {},
   "outputs": [],
   "source": [
    "for brand in df['brand'].unique():\n",
    "    brand_mask = df['brand'] == brand\n",
    "    df.loc[brand_mask, 'actual_price'] = df.loc[brand_mask, 'actual_price'].fillna(gross_median[brand])"
   ]
  },
  {
   "cell_type": "code",
   "execution_count": 74,
   "id": "0d89d94a-a0f9-4cc4-b1b2-6a10b707bf14",
   "metadata": {
    "scrolled": true
   },
   "outputs": [
    {
     "data": {
      "text/plain": [
       "<Axes: xlabel='average_rating', ylabel='Density'>"
      ]
     },
     "execution_count": 74,
     "metadata": {},
     "output_type": "execute_result"
    },
    {
     "data": {
      "image/png": "[encoded data removed]",
      "text/plain": [
       "<Figure size 640x480 with 1 Axes>"
      ]
     },
     "metadata": {},
     "output_type": "display_data"
    }
   ],
   "source": [
    "sns.distplot(df['average_rating'])"
   ]
  },
  {
   "cell_type": "code",
   "execution_count": 76,
   "id": "165c63e8-29f4-4021-b5b2-81eec7019ec3",
   "metadata": {},
   "outputs": [
    {
     "data": {
      "text/plain": [
       "-0.7033216405202181"
      ]
     },
     "execution_count": 76,
     "metadata": {},
     "output_type": "execute_result"
    }
   ],
   "source": [
    "df['average_rating'].skew()"
   ]
  },
  {
   "cell_type": "code",
   "execution_count": 77,
   "id": "607a776a-c4a5-4c18-8f4e-48b7e25a09f3",
   "metadata": {},
   "outputs": [],
   "source": [
    "rating_median = df.groupby('brand')['average_rating'].median()"
   ]
  },
  {
   "cell_type": "code",
   "execution_count": 78,
   "id": "f33d31c6-2a6e-4990-8e16-b5bb7126d48c",
   "metadata": {},
   "outputs": [],
   "source": [
    "for brand in df['brand'].unique():\n",
    "    brand_mask = df['brand'] == brand\n",
    "    df.loc[brand_mask, 'average_rating'] = df.loc[brand_mask, 'average_rating'].fillna(rating_median[brand])"
   ]
  },
  {
   "cell_type": "code",
   "execution_count": 79,
   "id": "a25e5a26-35b5-41b9-968d-fc02494a8147",
   "metadata": {
    "scrolled": true
   },
   "outputs": [
    {
     "data": {
      "text/plain": [
       "<Axes: xlabel='discount', ylabel='Density'>"
      ]
     },
     "execution_count": 79,
     "metadata": {},
     "output_type": "execute_result"
    },
    {
     "data": {
      "image/png": "[encoded data removed]",
      "text/plain": [
       "<Figure size 640x480 with 1 Axes>"
      ]
     },
     "metadata": {},
     "output_type": "display_data"
    }
   ],
   "source": [
    "sns.distplot(df['discount'])"
   ]
  },
  {
   "cell_type": "code",
   "execution_count": 80,
   "id": "30c10475-d2a6-4649-8820-aab51a000da0",
   "metadata": {},
   "outputs": [
    {
     "data": {
      "text/plain": [
       "-0.6022450243134871"
      ]
     },
     "execution_count": 80,
     "metadata": {},
     "output_type": "execute_result"
    }
   ],
   "source": [
    "df.discount.skew()"
   ]
  },
  {
   "cell_type": "code",
   "execution_count": 88,
   "id": "cbcef922-eed1-4876-963a-2ae49f04dfc4",
   "metadata": {},
   "outputs": [],
   "source": [
    "dis_median = df.groupby(['brand'])['discount'].median()"
   ]
  },
  {
   "cell_type": "code",
   "execution_count": 89,
   "id": "6bf55af7-e5b7-4b6e-b91b-c9da17293942",
   "metadata": {
    "scrolled": true
   },
   "outputs": [
    {
     "data": {
      "text/plain": [
       "brand\n",
       "A                    66.0\n",
       "A J STYL             58.0\n",
       "A to Z life sty      67.0\n",
       "A2Z QUALITY GROU     64.0\n",
       "ABC ANY BUDY CLE     46.0\n",
       "                     ... \n",
       "vims rai             64.0\n",
       "virl                 75.0\n",
       "wangjia              58.0\n",
       "yellowvib            59.0\n",
       "your shopping sto    68.0\n",
       "Name: discount, Length: 324, dtype: float64"
      ]
     },
     "execution_count": 89,
     "metadata": {},
     "output_type": "execute_result"
    }
   ],
   "source": [
    "dis_median"
   ]
  },
  {
   "cell_type": "code",
   "execution_count": 91,
   "id": "c194afa0-b686-45b0-a96b-bb73627bb596",
   "metadata": {},
   "outputs": [],
   "source": [
    "for brand in df['brand'].unique():\n",
    "    brand_mask = df['brand'] == brand\n",
    "    df.loc[brand_mask, 'discount'] = df.loc[brand_mask, 'discount'].fillna(dis_median[brand])"
   ]
  },
  {
   "cell_type": "code",
   "execution_count": 93,
   "id": "acde7775-3625-43d5-903f-2d691659ef11",
   "metadata": {},
   "outputs": [],
   "source": [
    "m=df.groupby(['brand']).agg({'actual_price':'median'})\n",
    "df['actual_price'] = df['actual_price'].fillna(m['actual_price'].mean())"
   ]
  },
  {
   "cell_type": "code",
   "execution_count": 94,
   "id": "41f0f521-a63b-4964-8772-82433793c2f9",
   "metadata": {},
   "outputs": [],
   "source": [
    "av=df.groupby(['brand']).agg({'average_rating':'median'})\n",
    "df['average_rating'] = df['average_rating'].fillna(av['average_rating'].mean())"
   ]
  },
  {
   "cell_type": "code",
   "execution_count": 95,
   "id": "6b1740eb-b68f-458f-876c-4be8cc8d73eb",
   "metadata": {},
   "outputs": [],
   "source": [
    "dis=df.groupby(['brand']).agg({'discount':'median'})\n",
    "df['discount'] = df['discount'].fillna(round(dis['discount'].mean()))"
   ]
  },
  {
   "cell_type": "code",
   "execution_count": 98,
   "id": "dda4e65c-9125-438a-870c-f3953002ab5a",
   "metadata": {},
   "outputs": [],
   "source": [
    "df['seller'].fillna(method='ffill', inplace=True)"
   ]
  },
  {
   "cell_type": "code",
   "execution_count": 99,
   "id": "092a097b-83dc-4e63-a18a-5670258f73b2",
   "metadata": {
    "scrolled": true
   },
   "outputs": [
    {
     "data": {
      "text/plain": [
       "_id                0\n",
       "actual_price       0\n",
       "average_rating     0\n",
       "brand              0\n",
       "category           0\n",
       "crawled_at         0\n",
       "description        0\n",
       "discount           0\n",
       "images             0\n",
       "out_of_stock       0\n",
       "pid                0\n",
       "product_details    0\n",
       "seller             0\n",
       "selling_price      0\n",
       "sub_category       0\n",
       "title              0\n",
       "url                0\n",
       "dtype: int64"
      ]
     },
     "execution_count": 99,
     "metadata": {},
     "output_type": "execute_result"
    }
   ],
   "source": [
    "df.isnull().sum()"
   ]
  },
  {
   "cell_type": "markdown",
   "id": "3657a551-d369-4e16-a64d-f458e7291839",
   "metadata": {},
   "source": [
    "### Null values are treated"
   ]
  },
  {
   "cell_type": "code",
   "execution_count": 117,
   "id": "efc58b15-bbb9-4105-aaa2-79f82ec26e2a",
   "metadata": {},
   "outputs": [
    {
     "data": {
      "text/html": [
       "<div>\n",
       "<style scoped>\n",
       "    .dataframe tbody tr th:only-of-type {\n",
       "        vertical-align: middle;\n",
       "    }\n",
       "\n",
       "    .dataframe tbody tr th {\n",
       "        vertical-align: top;\n",
       "    }\n",
       "\n",
       "    .dataframe thead th {\n",
       "        text-align: right;\n",
       "    }\n",
       "</style>\n",
       "<table border=\"1\" class=\"dataframe\">\n",
       "  <thead>\n",
       "    <tr style=\"text-align: right;\">\n",
       "      <th></th>\n",
       "      <th>actual_price</th>\n",
       "      <th>average_rating</th>\n",
       "      <th>discount</th>\n",
       "      <th>selling_price</th>\n",
       "    </tr>\n",
       "  </thead>\n",
       "  <tbody>\n",
       "    <tr>\n",
       "      <th>actual_price</th>\n",
       "      <td>1.000000</td>\n",
       "      <td>-0.059061</td>\n",
       "      <td>0.151886</td>\n",
       "      <td>0.829118</td>\n",
       "    </tr>\n",
       "    <tr>\n",
       "      <th>average_rating</th>\n",
       "      <td>-0.059061</td>\n",
       "      <td>1.000000</td>\n",
       "      <td>-0.012957</td>\n",
       "      <td>-0.060199</td>\n",
       "    </tr>\n",
       "    <tr>\n",
       "      <th>discount</th>\n",
       "      <td>0.151886</td>\n",
       "      <td>-0.012957</td>\n",
       "      <td>1.000000</td>\n",
       "      <td>-0.275119</td>\n",
       "    </tr>\n",
       "    <tr>\n",
       "      <th>selling_price</th>\n",
       "      <td>0.829118</td>\n",
       "      <td>-0.060199</td>\n",
       "      <td>-0.275119</td>\n",
       "      <td>1.000000</td>\n",
       "    </tr>\n",
       "  </tbody>\n",
       "</table>\n",
       "</div>"
      ],
      "text/plain": [
       "                actual_price  average_rating  discount  selling_price\n",
       "actual_price        1.000000       -0.059061  0.151886       0.829118\n",
       "average_rating     -0.059061        1.000000 -0.012957      -0.060199\n",
       "discount            0.151886       -0.012957  1.000000      -0.275119\n",
       "selling_price       0.829118       -0.060199 -0.275119       1.000000"
      ]
     },
     "execution_count": 117,
     "metadata": {},
     "output_type": "execute_result"
    }
   ],
   "source": [
    "corr = df[['actual_price', 'average_rating', 'discount', 'selling_price']].corr()\n",
    "corr"
   ]
  },
  {
   "cell_type": "code",
   "execution_count": 120,
   "id": "69042371-7a94-46e6-a14e-9ae9cf2efbe0",
   "metadata": {},
   "outputs": [
    {
     "data": {
      "text/plain": [
       "[<matplotlib.lines.Line2D at 0x1f4ace3c610>]"
      ]
     },
     "execution_count": 120,
     "metadata": {},
     "output_type": "execute_result"
    },
    {
     "data": {
      "image/png": "[encoded data removed]",
      "text/plain": [
       "<Figure size 640x480 with 1 Axes>"
      ]
     },
     "metadata": {},
     "output_type": "display_data"
    }
   ],
   "source": [
    "import matplotlib.pyplot as plt\n",
    "from scipy.stats import linregress\n",
    "plt.scatter(df['actual_price'],df['selling_price'],color='green')\n",
    "plt.xlabel('Actual Price')\n",
    "plt.ylabel('Selling Price')\n",
    "plt.title('Correlation between Actual Price and Selling Price')\n",
    "# Perform linear regression\n",
    "slope, intercept, r_value, p_value, std_err = linregress(df['actual_price'], df['selling_price'])\n",
    "\n",
    "# Calculate the regression line\n",
    "x_values = np.linspace(min(df['actual_price']), max(df['actual_price']), 100)\n",
    "y_values = slope * x_values + intercept\n",
    "\n",
    "# Plot the regression line\n",
    "plt.plot(x_values, y_values, color='red', label='Regression Line')"
   ]
  },
  {
   "cell_type": "code",
   "execution_count": 122,
   "id": "000b20c0-ef27-4e6a-b5df-a8c5a8fd7b1a",
   "metadata": {},
   "outputs": [
    {
     "data": {
      "text/plain": [
       "[<matplotlib.lines.Line2D at 0x1f4ca49fd50>]"
      ]
     },
     "execution_count": 122,
     "metadata": {},
     "output_type": "execute_result"
    },
    {
     "data": {
      "image/png": "[encoded data removed]",
      "text/plain": [
       "<Figure size 640x480 with 1 Axes>"
      ]
     },
     "metadata": {},
     "output_type": "display_data"
    }
   ],
   "source": [
    "plt.scatter(df['discount'],df['selling_price'],color='green')\n",
    "plt.xlabel('Actual Price')\n",
    "plt.ylabel('Discount')\n",
    "plt.title('Correlation between Discount and Selling Price')\n",
    "# Perform linear regression\n",
    "slope, intercept, r_value, p_value, std_err = linregress(df['discount'], df['selling_price'])\n",
    "\n",
    "# Calculate the regression line\n",
    "x_values = np.linspace(min(df['discount']), max(df['discount']), 100)\n",
    "y_values = slope * x_values + intercept\n",
    "\n",
    "# Plot the regression line\n",
    "plt.plot(x_values, y_values, color='red', label='Regression Line')"
   ]
  },
  {
   "cell_type": "markdown",
   "id": "f6aa34dc-0031-476b-b145-eff1c72d9f25",
   "metadata": {},
   "source": [
    "### Dropping some columns"
   ]
  },
  {
   "cell_type": "code",
   "execution_count": null,
   "id": "527df064-e73e-4d63-9f30-08b7f6e2e58d",
   "metadata": {},
   "outputs": [],
   "source": [
    "#feature Engineering"
   ]
  },
  {
   "cell_type": "code",
   "execution_count": 125,
   "id": "d1a2b509-b99c-4261-90b5-2434f71a998a",
   "metadata": {},
   "outputs": [
    {
     "data": {
      "text/plain": [
       "30000"
      ]
     },
     "execution_count": 125,
     "metadata": {},
     "output_type": "execute_result"
    }
   ],
   "source": [
    "df['_id'].nunique()"
   ]
  },
  {
   "cell_type": "code",
   "execution_count": 126,
   "id": "2285103e-0e21-424c-96c3-143d513e7b0b",
   "metadata": {},
   "outputs": [
    {
     "data": {
      "text/plain": [
       "28080"
      ]
     },
     "execution_count": 126,
     "metadata": {},
     "output_type": "execute_result"
    }
   ],
   "source": [
    "df['pid'].nunique()"
   ]
  },
  {
   "cell_type": "code",
   "execution_count": 128,
   "id": "caa3cfd8-c010-42f3-afed-dcf11f193932",
   "metadata": {},
   "outputs": [
    {
     "data": {
      "text/plain": [
       "4579"
      ]
     },
     "execution_count": 128,
     "metadata": {},
     "output_type": "execute_result"
    }
   ],
   "source": [
    "df['title'].nunique()"
   ]
  },
  {
   "cell_type": "code",
   "execution_count": 130,
   "id": "311e4fa6-5814-45b5-80af-fe76ef368a00",
   "metadata": {},
   "outputs": [
    {
     "data": {
      "text/plain": [
       "534"
      ]
     },
     "execution_count": 130,
     "metadata": {},
     "output_type": "execute_result"
    }
   ],
   "source": [
    "df.seller.nunique()"
   ]
  },
  {
   "cell_type": "code",
   "execution_count": 127,
   "id": "731fb230-827e-408e-af57-0db22146db37",
   "metadata": {},
   "outputs": [
    {
     "data": {
      "text/plain": [
       "Index(['_id', 'actual_price', 'average_rating', 'brand', 'category',\n",
       "       'crawled_at', 'description', 'discount', 'images', 'out_of_stock',\n",
       "       'pid', 'product_details', 'seller', 'selling_price', 'sub_category',\n",
       "       'title', 'url'],\n",
       "      dtype='object')"
      ]
     },
     "execution_count": 127,
     "metadata": {},
     "output_type": "execute_result"
    }
   ],
   "source": [
    "df.columns"
   ]
  },
  {
   "cell_type": "code",
   "execution_count": 131,
   "id": "6ce3f7a4-9a9b-46fa-a490-94a3100df8e2",
   "metadata": {},
   "outputs": [],
   "source": [
    "df.drop(columns=['_id', 'crawled_at', 'description', 'images', 'product_details', 'url'], inplace=True)"
   ]
  },
  {
   "cell_type": "code",
   "execution_count": null,
   "id": "9cd6922b-70dd-46e7-a325-999088cbb6a6",
   "metadata": {},
   "outputs": [],
   "source": [
    "# saving as excel"
   ]
  },
  {
   "cell_type": "code",
   "execution_count": 132,
   "id": "4bae6f73-0db6-4200-8270-0e8821194572",
   "metadata": {},
   "outputs": [],
   "source": [
    "df.to_excel('E-Commerce.xlsx')"
   ]
  },
  {
   "cell_type": "code",
   "execution_count": null,
   "id": "8f3400b2-d573-425c-b27f-ee95df402000",
   "metadata": {},
   "outputs": [],
   "source": []
  }
 ],
 "metadata": {
  "kernelspec": {
   "display_name": "Python 3 (ipykernel)",
   "language": "python",
   "name": "python3"
  },
  "language_info": {
   "codemirror_mode": {
    "name": "ipython",
    "version": 3
   },
   "file_extension": ".py",
   "mimetype": "text/x-python",
   "name": "python",
   "nbconvert_exporter": "python",
   "pygments_lexer": "ipython3",
   "version": "3.11.5"
  }
 },
 "nbformat": 4,
 "nbformat_minor": 5
}
